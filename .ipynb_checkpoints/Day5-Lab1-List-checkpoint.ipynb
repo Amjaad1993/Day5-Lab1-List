{
 "cells": [
  {
   "cell_type": "code",
   "execution_count": 1,
   "id": "a224f4e1",
   "metadata": {},
   "outputs": [
    {
     "data": {
      "text/plain": [
       "[5, 4, 17, 19, 30, 2, 7, 10, 45]"
      ]
     },
     "execution_count": 1,
     "metadata": {},
     "output_type": "execute_result"
    }
   ],
   "source": [
    "num_lst = [5, 4, 17, 19, 30, 2, 7, 10, 45]\n",
    "num_lst"
   ]
  },
  {
   "cell_type": "code",
   "execution_count": 5,
   "id": "281cb84a",
   "metadata": {},
   "outputs": [
    {
     "name": "stdout",
     "output_type": "stream",
     "text": [
      "139\n"
     ]
    }
   ],
   "source": [
    "def sum_fun(lst):\n",
    "    re_sum = 0\n",
    "    for x in lst:\n",
    "        re_sum += x\n",
    "    print(re_sum)\n",
    "sum_fun(num_lst)"
   ]
  },
  {
   "cell_type": "code",
   "execution_count": 6,
   "id": "8d84e564",
   "metadata": {},
   "outputs": [
    {
     "name": "stdout",
     "output_type": "stream",
     "text": [
      "45\n"
     ]
    }
   ],
   "source": [
    "def max_fun(lst):\n",
    "    re_max = lst[0]\n",
    "    for x in lst:\n",
    "        if x> re_max:\n",
    "            re_max = x\n",
    "    print(re_max)\n",
    "max_fun(num_lst)"
   ]
  },
  {
   "cell_type": "code",
   "execution_count": 11,
   "id": "ccb622e6",
   "metadata": {},
   "outputs": [
    {
     "data": {
      "text/plain": [
       "[4, 30, 2, 10]"
      ]
     },
     "execution_count": 11,
     "metadata": {},
     "output_type": "execute_result"
    }
   ],
   "source": [
    "def new_fun(lst):\n",
    "    re_new = [x for x in lst if x%2 ==0]\n",
    "    return (re_new)\n",
    "new_lst = new_fun(num_lst)\n",
    "new_lst"
   ]
  },
  {
   "cell_type": "code",
   "execution_count": 14,
   "id": "43736274",
   "metadata": {},
   "outputs": [
    {
     "data": {
      "text/plain": [
       "[5, 4, 17, 19, 30]"
      ]
     },
     "execution_count": 14,
     "metadata": {},
     "output_type": "execute_result"
    }
   ],
   "source": [
    "def sli_fun(lst):\n",
    "    re_sli = lst[:5]\n",
    "    return (re_sli)\n",
    "new_lst = sli_fun(num_lst)\n",
    "new_lst"
   ]
  },
  {
   "cell_type": "code",
   "execution_count": null,
   "id": "b9ddf6a2",
   "metadata": {},
   "outputs": [],
   "source": []
  }
 ],
 "metadata": {
  "kernelspec": {
   "display_name": "Python 3 (ipykernel)",
   "language": "python",
   "name": "python3"
  },
  "language_info": {
   "codemirror_mode": {
    "name": "ipython",
    "version": 3
   },
   "file_extension": ".py",
   "mimetype": "text/x-python",
   "name": "python",
   "nbconvert_exporter": "python",
   "pygments_lexer": "ipython3",
   "version": "3.9.13"
  }
 },
 "nbformat": 4,
 "nbformat_minor": 5
}
